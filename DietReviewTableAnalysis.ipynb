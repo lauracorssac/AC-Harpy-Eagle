{
 "cells": [
  {
   "cell_type": "code",
   "execution_count": null,
   "metadata": {},
   "outputs": [],
   "source": [
    "import pandas as pd\n",
    "import seaborn as sns\n",
    "import numpy as np"
   ]
  },
  {
   "cell_type": "code",
   "execution_count": null,
   "metadata": {},
   "outputs": [],
   "source": [
    "diet = pd.read_csv(\"diet.csv\")\n",
    "reviews = pd.read_csv(\"reviews.csv\")"
   ]
  },
  {
   "cell_type": "markdown",
   "metadata": {},
   "source": [
    "Shows dietary preferences (vegan, vegetarian, omnivore) and age for each user \\\n",
    "271.907 rows \\\n",
    "The 3 groups have almost the same distibution of Age (see boxplot) \\\n",
    "Tem menos veganos (+-50k) e vegetarianos (+-80k) que onívoros (+-145k) mas acho que isso já é bem significativo"
   ]
  },
  {
   "cell_type": "code",
   "execution_count": null,
   "metadata": {},
   "outputs": [],
   "source": [
    "diet.head()"
   ]
  },
  {
   "cell_type": "code",
   "execution_count": null,
   "metadata": {},
   "outputs": [],
   "source": [
    "diet[diet[\"Diet\"].isnull()]\n",
    "# ou deletamos esse usuario ou colocamos que ele é onivoro"
   ]
  },
  {
   "cell_type": "code",
   "execution_count": null,
   "metadata": {},
   "outputs": [],
   "source": [
    "sns.boxplot(data = diet, x = \"Age\", y = \"Diet\", width = .5)\n",
    "# veganos um pouquinho mais velhos, mas diferenca insignificante"
   ]
  },
  {
   "cell_type": "code",
   "execution_count": null,
   "metadata": {},
   "outputs": [],
   "source": [
    "diet.groupby(['Diet']).agg(Median = (\"Age\", 'median'),\n",
    "                           Mean = (\"Age\", 'mean'),\n",
    "                           StdDev = (\"Age\", 'std'),\n",
    "                           Count = (\"AuthorId\", \"count\"))"
   ]
  },
  {
   "cell_type": "markdown",
   "metadata": {},
   "source": [
    "#### Review and Diet\n",
    "\n",
    "Todos os users de Reviews estão na tabela Diet! \\\n",
    "Não conlui nada novo com esse pairplot..."
   ]
  },
  {
   "cell_type": "code",
   "execution_count": null,
   "metadata": {},
   "outputs": [],
   "source": [
    "dietreviewsmerged = diet.merge(reviews, on = [\"AuthorId\"])\n",
    "dietreviewsmerged = dietreviewsmerged[['AuthorId', 'Diet', 'Age', 'Rating', 'Like']]\n",
    "sns.pairplot(dietreviewsmerged, hue = \"Diet\")"
   ]
  },
  {
   "cell_type": "markdown",
   "metadata": {},
   "source": [
    "### Review \n"
   ]
  },
  {
   "cell_type": "code",
   "execution_count": null,
   "metadata": {},
   "outputs": [],
   "source": [
    "reviews[\"RatingValue\"] = np.where(reviews[\"Rating\"].isna(), 0, 1)\n",
    "reviews[\"LikeValue\"] = np.where(reviews[\"Like\"].isna(), 0, 1)\n",
    "reviews.groupby([\"RatingValue\", \"LikeValue\"])['AuthorId'].count()\n",
    "#tem rating sem like, like sem rating e null nas duas\n",
    "#Rating sem like: se maior que 2,5 entao Like (?)\n",
    "#Like sem rating:\n",
    "#Sem os dois: deleta a linha, não tras nenhuma info util\n",
    "\n",
    "sns.boxplot(data = reviews, x = \"Like\", y = \"Rating\", width = .5)\n",
    "\n",
    "reviews = reviews.drop(columns = [\"RatingValue\", \"LikeValue\"])"
   ]
  }
 ],
 "metadata": {
  "kernelspec": {
   "display_name": ".venv",
   "language": "python",
   "name": "python3"
  },
  "language_info": {
   "codemirror_mode": {
    "name": "ipython",
    "version": 3
   },
   "file_extension": ".py",
   "mimetype": "text/x-python",
   "name": "python",
   "nbconvert_exporter": "python",
   "pygments_lexer": "ipython3",
   "version": "3.9.6"
  }
 },
 "nbformat": 4,
 "nbformat_minor": 2
}
