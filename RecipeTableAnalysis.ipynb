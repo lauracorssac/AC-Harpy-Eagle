{
 "cells": [
  {
   "cell_type": "code",
   "execution_count": null,
   "metadata": {},
   "outputs": [],
   "source": [
    "import pandas as pd\n",
    "import numpy as np\n",
    "import matplotlib.pyplot as plt"
   ]
  },
  {
   "cell_type": "code",
   "execution_count": null,
   "metadata": {},
   "outputs": [],
   "source": [
    "diet = pd.read_csv(\"diet.csv\")\n",
    "recipes = pd.read_csv(\"recipes.csv\")\n",
    "requests = pd.read_csv(\"requests.csv\")\n",
    "reviews = pd.read_csv(\"reviews.csv\")"
   ]
  },
  {
   "cell_type": "markdown",
   "metadata": {},
   "source": [
    "#### Try to correlate recipe serving with something like age\n",
    "\n",
    "The conclusion is that is not correlated. Therefore, RecipeServings and RecipeYield were discarded."
   ]
  },
  {
   "cell_type": "code",
   "execution_count": null,
   "metadata": {},
   "outputs": [],
   "source": [
    "diet_review = pd.merge(reviews, diet, on='AuthorId', how='inner')\n",
    "diet_review_recipe = pd.merge(diet_review, recipes, on=\"RecipeId\", how='inner')\n",
    "diet_review_recipe = diet_review_recipe[(diet_review_recipe['Like'] == True) & (diet_review_recipe['RecipeServings'].notna())]\n",
    "plt.scatter(diet_review_recipe['RecipeServings'], diet_review_recipe['Age'])\n",
    "plt.title('Scatter Plot of RecipeServings vs Age')\n",
    "plt.xlabel('RecipeServings')\n",
    "plt.ylabel('Age')\n",
    "plt.show()\n",
    "\n",
    "diet_review_recipe.sort_values(by=\"AuthorId\")"
   ]
  }
 ],
 "metadata": {
  "kernelspec": {
   "display_name": ".venv",
   "language": "python",
   "name": "python3"
  },
  "language_info": {
   "codemirror_mode": {
    "name": "ipython",
    "version": 3
   },
   "file_extension": ".py",
   "mimetype": "text/x-python",
   "name": "python",
   "nbconvert_exporter": "python",
   "pygments_lexer": "ipython3",
   "version": "3.9.6"
  }
 },
 "nbformat": 4,
 "nbformat_minor": 2
}
