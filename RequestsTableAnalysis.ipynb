{
 "cells": [
  {
   "cell_type": "code",
   "execution_count": null,
   "metadata": {},
   "outputs": [],
   "source": [
    "import pandas as pd\n",
    "import numpy as np\n",
    "import sklearn\n",
    "\n",
    "import matplotlib.pyplot as plt\n",
    "import seaborn as sns"
   ]
  },
  {
   "cell_type": "code",
   "execution_count": null,
   "metadata": {},
   "outputs": [],
   "source": [
    "diet = pd.read_csv(\"diet.csv\")\n",
    "recipes = pd.read_csv(\"recipes.csv\")\n",
    "requests = pd.read_csv(\"requests.csv\")\n",
    "reviews = pd.read_csv(\"reviews.csv\")"
   ]
  },
  {
   "cell_type": "code",
   "execution_count": null,
   "metadata": {},
   "outputs": [],
   "source": [
    "# have a look at common statistics of the dataset\n",
    "requests.describe()\n",
    "requests.nunique()\n",
    "\n",
    "# understanding the proportions in macronutrients \n",
    "nutrient_labels = [\"Protein\", \"Calories\", \"Fiber\", \"Sugar\", \"Fat\"]\n",
    "proportions = {}\n",
    "\n",
    "for nutrient in nutrient_labels:\n",
    "    proportions[nutrient] = requests[nutrient].value_counts(normalize=True)\n",
    "proportions\n",
    "\n",
    "# relationship between macronutrients Fat-Sugar\n",
    "grouped_size = requests.groupby([\"Fat\", \"Sugar\"]).size().reset_index(name='Count')\n",
    "grouped_size\n",
    "\n",
    "# calculate the percentage within each group\n",
    "total_size = grouped_size['Count'].sum()\n",
    "grouped_size['Percentage'] = (grouped_size['Count'] / total_size) * 100\n",
    "grouped_size"
   ]
  }
 ],
 "metadata": {
  "language_info": {
   "name": "python"
  }
 },
 "nbformat": 4,
 "nbformat_minor": 2
}
